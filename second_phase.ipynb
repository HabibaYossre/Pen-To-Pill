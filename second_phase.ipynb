{
 "cells": [
  {
   "cell_type": "code",
   "execution_count": 2,
   "metadata": {},
   "outputs": [],
   "source": [
    "import re\n",
    "import unicodedata\n",
    "\n",
    "import numpy as np\n",
    "import pandas as pd\n",
    "from rapidfuzz import fuzz, process\n",
    "\n",
    "pd.set_option('display.max_colwidth', None)  # Show full content of each cell\n",
    "pd.set_option('display.expand_frame_repr', False)  # Avoid line wrapping"
   ]
  },
  {
   "cell_type": "markdown",
   "metadata": {},
   "source": [
    "# medicine list"
   ]
  },
  {
   "cell_type": "code",
   "execution_count": 26,
   "metadata": {},
   "outputs": [],
   "source": [
    "medicine_list = [\n",
    "    # English Medicines\n",
    "    \"Cyclosporine\", \"Mebendazole\", \"Pilocarpine\", \"Calcium\", \"Hydrocortisone\", \"Memantine\",\n",
    "    \"Hydroquinone\", \"Loratadine\", \"Guaifenesin\", \"Retinol\", \"Hydroxyzine\", \"Carbocisteine\",\n",
    "    \"Montelukast\", \"Dexamethasone\", \"Niacinamide\", \"Cefdinir\", \"Albendazole\", \"Gabapentin\",\n",
    "    \"Levetiracetam\", \"Zinc\", \"Chlorhexidine\", \"Diclofenac\", \"Prednisolone\", \"Botox\",\n",
    "    \"Dextromethorphan\", \"Lidocaine\", \"Metronidazole\", \"Acetylcysteine\", \"Ciprofloxacin\",\n",
    "    \"Clindamycin\", \"Probiotics\", \"Erythromycin\", \"Paracetamol\", \"Omeprazole\",\n",
    "    \"Fluorometholone\", \"Azithromycin\", \"Nystatin\", \"Valproate\", \"Pramipexole\",\n",
    "    \"Carbamazepine\", \"Tretinoin\", \"Ofloxacin\", \"Tobramycin\", \"Timolol\", \"Ropinirole\",\n",
    "    \"Brimonidine\", \"Pregabalin\", \"Rivastigmine\", \"Amantadine\", \"Ranitidine\",\n",
    "    \"Salbutamol\", \"Domperidone\", \"Vitamin\", \"Dorzolamide\", \"Cetirizine\", \"Cefixime\",\n",
    "    \"Topiramate\", \"Iron\", \"Latanoprost\", \"Multivitamins\", \"Donepezil\", \"Hyaluronic\",\n",
    "    \"Ibuprofen\", \"Ondansetron\", \"Mupirocin\", \"Amoxicillin\", \"Doxycycline\",\"Carbachol\", \n",
    "    \"Oral Amoxicillin\",\n",
    "    \n",
    "    # Arabic Medicines\n",
    "    \"حمض الجليكوليك\", \"حمض الساليسيليك\", \"الببتيدات\",\n",
    "    \"أملاح\", \"إريثرومايسين\", \"باراسيتامول\", \"دوكسيسيكلين\", \"ميبيندازول\",\n",
    "    \"الزنك\", \"كاربوسيستين\", \"رانيتيدين\", \"أوندانسيترون\", \"مونتيلوكاست\",\n",
    "    \"كلورهيكسيدين\", \"ديكلوفيناك\", \"ليدوكايين\", \"بريجابالين\", \"أزيثروميسين\",\n",
    "    \"فيتامين\", \"نياسيناميد\", \"غوايفينيسين\", \"فالبروات\", \"أموكسيسيلين\",\n",
    "    \"هيدروكسيزين\", \"البوتوكس\", \"لاتانوبروست\", \"توبراميسين\", \"جابابنتين\",\n",
    "    \"ديكساميثازون\", \"ديكستروميثورفان\", \"سيبروفلوكساسين\", \"ليفيتيراسيتام\",\n",
    "    \"الكالسيوم\", \"تيمولول\", \"روبينيرول\", \"الهيالورونيك\", \"كاربامازيبين\",\n",
    "    \"نيستاتين\", \"إيبوبروفين\", \"بريمونيدين\", \"ألبيندازول\", \"هيدروكورتيزون\",\n",
    "    \"ريفاستجمين\", \"موبيروسين\", \"كليندامايسين\", \"أسيتيل\", \"هيدروكينون\",\n",
    "    \"البروبيوتيك\", \"ميترونيدازول\", \"دونيبيزيل\", \"أمانتادين\", \"بيلوكاربين\",\n",
    "    \"سيكلوسبورين\", \"تريتينوين\", \"ريتينول\", \"الحديد\", \"أوفلوكساسين\",\n",
    "    \"فلوروميثولون\", \"بريدنيزولون\", \"سيفيكسيم\", \"سيفدينير\", \"كربونات\", \"كارباشول\", \n",
    "]"
   ]
  },
  {
   "cell_type": "markdown",
   "metadata": {},
   "source": [
    "# frequency list"
   ]
  },
  {
   "cell_type": "code",
   "execution_count": 27,
   "metadata": {},
   "outputs": [],
   "source": [
    "frequency_patterns = [\n",
    "    ## 🔹 English Frequencies\n",
    "    r\"\\bevery\\s\\d+\\shours?\\b\",            # \"every 6 hours\"\n",
    "    r\"\\bEvery\\shours\\b\",\n",
    "    r\"\\bevery\\s\\d+\\s?-\\s?\\d+\\shours?\\b\",  # \"every 4-6 hours\"\n",
    "    r\"\\bonce\\sdaily\\b\",                   # \"once daily\"\n",
    "    r\"\\btwice\\sdaily\\b\",                  # \"twice daily\"\n",
    "    r\"\\bthree\\stimes\\sa\\sday\\b\",          # \"three times a day\"\n",
    "    r\"\\bfour\\stimes\\sa\\sday\\b\",           # \"four times a day\"\n",
    "    r\"\\b\\d+\\stimes\\sa\\sday\\b\",            # \"5 times a day\"\n",
    "    \n",
    "    ## ⏳ Time-Based\n",
    "    r\"\\bevery\\sother\\sday\\b\",             # \"every other day\"\n",
    "    r\"\\bevery\\s\\d+\\sdays?\\b\",             # \"every 3 days\"\n",
    "    r\"\\bevery\\s\\d+\\sweeks?\\b\",            # \"every 2 weeks\"\n",
    "    r\"\\bevery\\s\\d+\\smonths?\\b\",           # \"every 6 months\"\n",
    "    \n",
    "    ## 🌙 Morning/Evening\n",
    "    r\"\\bin\\sthe\\smorning\\b\",              # \"in the morning\"\n",
    "    r\"\\bin\\sthe\\sevening\\b\",              # \"in the evening\"\n",
    "    r\"\\bin\\sthe\\safternoon\\b\",            # \"in the afternoon\"\n",
    "    r\"\\bin\\sthe\\snight\\b\",                # \"in the night\"\n",
    "    r\"\\bdaily\\sat\\snoon\\b\",               # \"daily at noon\"\n",
    "    \n",
    "    ## 🍽 Meal-Based\n",
    "    r\"\\bbefore\\smeals?\\b\",                # \"before meals\"\n",
    "    r\"\\bbefore\\sbreakfast?\\b\",            # \"before breakfast\"\n",
    "    r\"\\bafter\\smeals?\\b\",                 # \"after meals\"\n",
    "    r\"\\bafter\\sbreakfast?\\b\",             # \"after breakfast\"\n",
    "    r\"\\bbefore\\sfood\\b\",                  # \"before food\"\n",
    "    r\"\\bafter\\sfood\\b\",                   # \"after food\"\n",
    "    r\"\\bon\\san\\sempty\\sstomach\\b\",        # \"on an empty stomach\"\n",
    "    \n",
    "    ## 🌙 Sleep\n",
    "    r\"\\bbefore\\sbedtime\\b\",               # \"before bedtime\"\n",
    "    r\"\\bat\\sbedtime\\b\",                   # \"at bedtime\"\n",
    "    r\"\\bbefore\\sgoing\\sto\\sbed\\b\",        # \"before going to bed\"\n",
    "    \n",
    "    ## 🔄 PRN (As Needed)\n",
    "    r\"\\bas\\sneeded\\b\",                    # \"as needed\"\n",
    "    r\"\\bif\\sneeded\\b\",                    # \"if needed\"\n",
    "    r\"\\bwhen\\snecessary\\b\",               # \"when necessary\"\n",
    "    r\"\\bwhen\\srequired\\b\",                # \"when required\"\n",
    "    r\"\\bwhen\\sfeeling\\spain\\b\",           # \"when feeling pain\"\n",
    "    \n",
    "    ## 🚑 Perioperative\n",
    "    r\"\\bbefore\\ssurgery\\b\",               # \"before surgery\"\n",
    "    r\"\\bafter\\ssurgery\\b\",                # \"after surgery\"\n",
    "    r\"\\bbefore\\san\\soperation\\b\",         # \"before an operation\"\n",
    "    r\"\\bafter\\san\\soperation\\b\",          # \"after an operation\"\n",
    "\n",
    "    ## 🔹 Arabic Frequencies\n",
    "    r\"\\bكل\\s\\d+\\sساعة\\b\",              # \"كل 8 ساعات\" (every X hours)\n",
    "    r\"\\bكل\\s\\d+\\s?-\\s?\\d+\\sساعات?\\b\",  # \"كل 4-6 ساعات\" (every X-Y hours)\n",
    "    r\"\\bمرة\\sيوميا\\b\",                 # \"مرة يوميًا\" (once daily)\n",
    "    r\"\\bمرة\\sكل\\sيوم\\b\",               # \"مرة كل يوم\" (once per day)\n",
    "    r\"\\bمرة\\sيوميا\\b\",                 # \"مرة يوميا\" (once per day)\n",
    "    r\"\\bمرة\\sأسبوعيا\\b\",               # \"مرة أسبوعيًا\" (once weekly)\n",
    "    r\"\\bمرة\\sكل\\sأسبوع\\b\",             # \"مرة كل أسبوع\" (once per week)\n",
    "    r\"\\bمرة\\sشهريا\\b\",                 # \"مرة شهريًا\" (once monthly)\n",
    "    r\"\\bمرة\\sكل\\sشهر\\b\",               # \"مرة كل شهر\" (once per month)\n",
    "    r\"\\bمرتين\\sيوميا\\b\",               # \"مرتين يوميًا\" (twice daily)\n",
    "    r\"\\b\\d+\\sمرات?\\sيوميا\\b\",          # \"3 مرات يوميًا\" (multiple times daily)\n",
    "    \n",
    "    ## ⏳ Time-Based\n",
    "    r\"\\bكل\\sيومين\\b\",                   # \"كل يومين\" (every other day)\n",
    "    r\"\\bكل\\s\\d+\\sأيام\\b\",               # \"كل 3 أيام\" (every X days)\n",
    "    r\"\\bكل\\s\\d+\\sأسابيع\\b\",             # \"كل 2 أسابيع\" (every X weeks)\n",
    "    r\"\\bكل\\s\\d+\\sشهور\\b\",               # \"كل 6 شهور\" (every X months)\n",
    "\n",
    "   ## Arabic (Word-Based Numbers)\n",
    "    r\"\\bكل\\sساعة\\b\",                     # \"كل واحدة ساعة\" (every one hour)\n",
    "    r\"\\bكل\\sساعتين\\b\",                   # \"كل اثنتين ساعة\" (every two hours)\n",
    "    r\"\\bكل\\sثلاث\\sساعات\\b\",               # \"كل ثلاث ساعات\" (every three hours)\n",
    "    r\"\\bكل\\sأربع\\sساعات\\b\",              # \"كل أربع ساعات\" (every four hours)\n",
    "    r\"\\bكل\\sخمس\\sساعات\\b\",               # \"كل خمس ساعات\" (every five hours)\n",
    "    r\"\\bكل\\sست\\sساعات\\b\",                # \"كل ست ساعات\" (every six hours)\n",
    "    r\"\\bكل\\sسبع\\sساعات\\b\",               # \"كل سبع ساعات\" (every seven hours)\n",
    "    r\"\\bكل\\sثماني\\sساعات\\b\",             # \"كل ثماني ساعات\" (every eight hours)\n",
    "    r\"\\bكل\\sتسع\\sساعات\\b\",               # \"كل تسع ساعات\" (every nine hours)\n",
    "    r\"\\bكل\\sعشر\\sساعات\\b\",               # \"كل عشر ساعات\" (every ten hours)\n",
    "    r\"\\bكل\\sإحدى\\sعشرة\\sساعة\\b\",         # \"كل إحدى عشرة ساعة\" (every 11 hours)\n",
    "    r\"\\bكل\\sاثنتي\\sعشرة\\sساعة\\b\",        # \"كل اثنتي عشرة ساعة\" (every 12 hours)\n",
    "    \n",
    "    ## 🌙 Morning/Evening\n",
    "    r\"\\bفي\\sالصباح\\b\",                  # \"في الصباح\" (in the morning)\n",
    "    r\"\\bفي\\sالمساء\\b\",                  # \"في المساء\" (in the evening)\n",
    "    r\"\\bفي\\sالظهيرة\\b\",                 # \"في الظهيرة\" (at noon)\n",
    "    r\"\\bفي\\sالليل\\b\",                   # \"في الليل\" (at night)\n",
    "    \n",
    "    ## 🍽 Meal-Based\n",
    "    r\"\\bقبل\\sالأكل\\b\",                  # \"قبل الأكل\" (before meals)\n",
    "    r\"\\bبعد\\sالأكل\\b\",                  # \"بعد الأكل\" (after meals)\n",
    "    r\"\\bقبل\\sالطعام\\b\",                 # \"قبل الطعام\" (before food)\n",
    "    r\"\\bبعد\\sالطعام\\b\",                 # \"بعد الطعام\" (after food)\n",
    "    r\"\\bعلى\\sمعدة\\sفارغة\\b\",            # \"على معدة فارغة\" (on an empty stomach)\n",
    "    r\"\\bعلى\\sالريق\\b\",                   # \"على الريق\" (fasting)\n",
    "    \n",
    "    ## 🌙 Sleep\n",
    "    r\"\\bقبل\\sالنوم\\b\",                 # \"قبل النوم\" (before sleep)\n",
    "    r\"\\bعند\\sالنوم\\b\",                 # \"عند النوم\" (at bedtime)\n",
    "    \n",
    "    ## 🔄 PRN (As Needed)\n",
    "    r\"\\bعند\\sاللزوم\\b\",                # \"عند اللزوم\" (as needed)\n",
    "    r\"\\bحسب\\sالحاجة\\b\",                # \"حسب الحاجة\" (as required)\n",
    "    r\"\\bإذا\\sاستدعت\\sالحاجة\\b\",         # \"إذا استدعت الحاجة\" (if necessary)\n",
    "    r\"\\bعند\\sالشعور\\sبالألم\\b\",          # \"عند الشعور بالألم\" (when feeling pain)\n",
    "    \n",
    "    ## 🚑 Perioperative\n",
    "    r\"\\bقبل\\sالعملية\\b\",              # \"قبل العملية\" (before surgery)\n",
    "    r\"\\bبعد\\sالعملية\\b\",              # \"بعد العملية\" (after surgery)\n",
    "    r\"\\bقبل\\sالتدخل\\sالجراحي\\b\",     # \"قبل التدخل الجراحي\" (before an operation)\n",
    "    r\"\\bبعد\\sالتدخل\\sالجراحي\\b\",     # \"بعد التدخل الجراحي\" (after an operation)\n",
    "]"
   ]
  },
  {
   "cell_type": "code",
   "execution_count": 5,
   "metadata": {},
   "outputs": [],
   "source": [
    "# Load dataset (Assuming CSV)\n",
    "df = pd.read_excel(\"Train.xlsx\")\n",
    "\n",
    "# Specify the column containing extracted prescription text\n",
    "target_column = \"Prescription\""
   ]
  },
  {
   "cell_type": "code",
   "execution_count": 6,
   "metadata": {},
   "outputs": [
    {
     "data": {
      "text/plain": [
       "<bound method NDFrame.head of 0                                                                                Carbachol Every 8 hours\n",
       "1         Ofloxacin كل ست  ساعات , Brimonidine كل ٦ ساعات , كارباشول عند اللزوم , Latanoprost مرة يومياً\n",
       "2                                                                           Brimonidine Before breakfast\n",
       "3          Carbachol عند اللزوم , Tobramycin عند اللزوم , Pilocarpine كل ٦ ساعات , لاتانوبروست قبل النوم\n",
       "4                                                      Fluorometholone As needed , Latanoprost As needed\n",
       "                                                     ...                                                \n",
       "618    Doxycycline مرة يومياً , كليندامايسين قبل النوم , موبيروسين مرتين يومياً , كلورهيكسيدين قبل النوم\n",
       "619                                                                              ديكلوفيناك مرتين يومياً\n",
       "620                                                                                  Nystatin بعد الغداء\n",
       "621                       Azithromycin قبل الفطار , سيبروفلوكساسين عند اللزوم , Metronidazole مرة يومياً\n",
       "622                      Mupirocin Once daily , Hydrocortisone Twice daily , Ciprofloxacin Every 6 hours\n",
       "Name: Prescription, Length: 623, dtype: object>"
      ]
     },
     "execution_count": 6,
     "metadata": {},
     "output_type": "execute_result"
    }
   ],
   "source": [
    "df[target_column].head"
   ]
  },
  {
   "cell_type": "code",
   "execution_count": 7,
   "metadata": {},
   "outputs": [],
   "source": [
    "def extract_medicine_and_frequency(text):\n",
    "    \"\"\"\n",
    "    Extracts medicine names and dosage frequency while maintaining the original order.\n",
    "    Returns a list of dictionaries [{medicine: \"name\", frequency: \"value\"}].\n",
    "    \"\"\"\n",
    "    if not isinstance(text, str):  # Ensure text is a string\n",
    "        return []\n",
    "    \n",
    "    structured_output = []\n",
    "    \n",
    "    # Combine medicine names and frequency patterns into a single regex pattern\n",
    "    combined_pattern = r\"|\".join(\n",
    "        [re.escape(med) for med in medicine_list] + frequency_patterns\n",
    "    )\n",
    "\n",
    "    # Find all matches in the order they appear in the text\n",
    "    matches = re.findall(combined_pattern, text, re.IGNORECASE)\n",
    "    \n",
    "    current_medicine = None  # Track last detected medicine\n",
    "    \n",
    "    for match in matches:\n",
    "        if match in medicine_list:  \n",
    "            current_medicine = match  # Update the latest detected medicine\n",
    "            structured_output.append({\"medicine\": match, \"frequency\": \"\"})  # Default frequency\n",
    "        \n",
    "        elif current_medicine:  \n",
    "            # Assign the frequency to the last detected medicine **only if it does not have one yet**\n",
    "            if structured_output[-1][\"frequency\"] == \"\":\n",
    "                structured_output[-1][\"frequency\"] = match  \n",
    "            else:\n",
    "                # If previous medicine already has a frequency, store this frequency separately\n",
    "                structured_output.append({\"medicine\": current_medicine, \"frequency\": match})\n",
    "    \n",
    "    return structured_output"
   ]
  },
  {
   "cell_type": "code",
   "execution_count": 8,
   "metadata": {},
   "outputs": [
    {
     "data": {
      "text/plain": [
       "0                                                                                                                                                             [{'medicine': 'Carbachol', 'frequency': 'Every 8 hours'}]\n",
       "1                [{'medicine': 'Ofloxacin', 'frequency': ''}, {'medicine': 'Brimonidine', 'frequency': ''}, {'medicine': 'كارباشول', 'frequency': 'عند اللزوم'}, {'medicine': 'Latanoprost', 'frequency': 'مرة يوميا'}]\n",
       "2                                                                                                                                                        [{'medicine': 'Brimonidine', 'frequency': 'Before breakfast'}]\n",
       "3    [{'medicine': 'Carbachol', 'frequency': 'عند اللزوم'}, {'medicine': 'Tobramycin', 'frequency': 'عند اللزوم'}, {'medicine': 'Pilocarpine', 'frequency': ''}, {'medicine': 'لاتانوبروست', 'frequency': 'قبل النوم'}]\n",
       "4                                                                                                    [{'medicine': 'Fluorometholone', 'frequency': 'As needed'}, {'medicine': 'Latanoprost', 'frequency': 'As needed'}]\n",
       "Name: structured_prescriptions, dtype: object"
      ]
     },
     "execution_count": 8,
     "metadata": {},
     "output_type": "execute_result"
    }
   ],
   "source": [
    "# Apply extraction function to dataset\n",
    "df[\"structured_prescriptions\"] = df[target_column].apply(extract_medicine_and_frequency)\n",
    "\n",
    "# Convert the entire dataset into a list of lists of dictionaries\n",
    "structured_output = df[\"structured_prescriptions\"].tolist()\n",
    "\n",
    "# Print the final structured output\n",
    "df[\"structured_prescriptions\"].head()"
   ]
  },
  {
   "cell_type": "code",
   "execution_count": 9,
   "metadata": {},
   "outputs": [],
   "source": [
    "def extract_medicine_and_frequency(text):\n",
    "    if not isinstance(text, str):  # Ensure text is a string\n",
    "        return []\n",
    "    \n",
    "    structured_output = []\n",
    "    \n",
    "    # Combine medicine names and frequency patterns into a single regex pattern\n",
    "    combined_pattern = r\"|\".join(\n",
    "        [re.escape(med) for med in medicine_list] + frequency_patterns\n",
    "    )\n",
    "\n",
    "    # Find all matches in the order they appear in the text\n",
    "    matches = re.findall(combined_pattern, text, re.IGNORECASE)\n",
    "    \n",
    "    current_medicine = None  # Track last detected medicine\n",
    "    \n",
    "    for match in matches:\n",
    "        if match in medicine_list:  \n",
    "            current_medicine = match  # Update the latest detected medicine\n",
    "            structured_output.append({\"medicine\": match, \"frequency\": \"\"})  # Default frequency\n",
    "        \n",
    "        elif current_medicine:  \n",
    "            # Assign the frequency to the last detected medicine **only if it does not have one yet**\n",
    "            if structured_output[-1][\"frequency\"] == \"\":\n",
    "                structured_output[-1][\"frequency\"] = match  \n",
    "            else:\n",
    "                # If previous medicine already has a frequency, store this frequency separately\n",
    "                structured_output.append({\"medicine\": current_medicine, \"frequency\": match})\n",
    "    \n",
    "    return structured_output\n",
    "\n",
    "def remove_diacritics(text):\n",
    "    # Normalize the text to decompose characters into base characters and diacritics\n",
    "    normalized_text = unicodedata.normalize('NFKD', text)\n",
    "    \n",
    "    # Filter out combining characters (diacritics)\n",
    "    cleaned_text = ''.join(\n",
    "        char for char in normalized_text\n",
    "        if not unicodedata.combining(char)\n",
    "    )\n",
    "    return cleaned_text"
   ]
  },
  {
   "cell_type": "code",
   "execution_count": 10,
   "metadata": {},
   "outputs": [
    {
     "data": {
      "text/plain": [
       "[{'medicine': 'Doxycycline', 'frequency': 'مرة يوميا'},\n",
       " {'medicine': 'كليندامايسين', 'frequency': 'قبل النوم'},\n",
       " {'medicine': 'موبيروسين', 'frequency': 'مرتين يوميا'},\n",
       " {'medicine': 'كلورهيكسيدين', 'frequency': 'قبل النوم'}]"
      ]
     },
     "execution_count": 10,
     "metadata": {},
     "output_type": "execute_result"
    }
   ],
   "source": [
    "# text = \"Ofloxacin كل ست ساعات , Brimonidine كل ٦ ساعات , كارباشول عند اللزوم , Latanoprost مرة يومياً\"\n",
    "# text = \"Carbachol عند اللزوم , Tobramycin عند اللزوم , Pilocarpine كل ٦ ساعات , لاتانوبروست قبل النوم\"\n",
    "text = \"Doxycycline مرة يومياً , كليندامايسين قبل النوم , موبيروسين مرتين يومياً , كلورهيكسيدين قبل النوم\"\n",
    "\n",
    "text = remove_diacritics(text)\n",
    "result = extract_medicine_and_frequency(text)\n",
    "result"
   ]
  },
  {
   "cell_type": "markdown",
   "metadata": {},
   "source": [
    "# extract function"
   ]
  },
  {
   "cell_type": "code",
   "execution_count": null,
   "metadata": {},
   "outputs": [
    {
     "name": "stdout",
     "output_type": "stream",
     "text": [
      "[('Doxycycline', 'مرة يومياً ,'), ('كليندامايسين', 'قبل النوم ,'), ('موبيروسين', 'مرتين يومياً ,'), ('كلورهيكسيدين', 'قبل النوم')]\n",
      "[('Paracetamol', 'hours Every'), ('Oral Amoxicillin', 'Twice daily'), ('Amoxicillin', 'other lunch After'), ('Erythromycin', 'Twice daily'), ('Nystatin', 'Twice daily')]\n"
     ]
    }
   ],
   "source": [
    "DEFAULT_FREQUENCY = \"Every 6 hours\"\n",
    "\n",
    "def extract_medicine_and_frequency(sentence, medicine_list, frequency_patterns):\n",
    "    extracted_medicines = []\n",
    "    extracted_frequencies = []\n",
    "    medicine_positions = {}\n",
    "    frequency_positions = {}\n",
    "\n",
    "    # Step 1: Extract medicines and their positions\n",
    "    for med in medicine_list:\n",
    "        match = re.search(rf\"\\b{re.escape(med)}\\b\", sentence)\n",
    "        if match:\n",
    "            extracted_medicines.append(med)\n",
    "            medicine_positions[med] = match.start()\n",
    "\n",
    "    # Step 2: Extract frequencies and their positions\n",
    "    for pattern in frequency_patterns:\n",
    "        pattern_re = re.compile(pattern)\n",
    "        matches = pattern_re.finditer(sentence)\n",
    "        for match in matches:\n",
    "            extracted_frequencies.append(match.group())\n",
    "            frequency_positions[match.group()] = match.start()\n",
    "\n",
    "    # Step 3: Sort medicines and frequencies by their position\n",
    "    sorted_medicines = sorted(medicine_positions.items(), key=lambda x: x[1])\n",
    "    sorted_frequencies = sorted(frequency_positions.items(), key=lambda x: x[1])\n",
    "\n",
    "    # Step 4: Pair medicines with frequencies\n",
    "    extracted_results = []\n",
    "    freq_index = 0\n",
    "    last_known_frequency = None\n",
    "    \n",
    "    for i, (med, med_pos) in enumerate(sorted_medicines):\n",
    "        extracted_frequency = \"Unknown\"\n",
    "        next_med_pos = sorted_medicines[i + 1][1] if i + 1 < len(sorted_medicines) else len(sentence)\n",
    "\n",
    "        # Check if there are words between this medicine and the next\n",
    "        words_between = sentence[med_pos + len(med):next_med_pos].strip()\n",
    "        if words_between and len(words_between.split()) <= 3:\n",
    "            extracted_frequency = words_between\n",
    "        else:\n",
    "            # Try to match frequency after the medicine (if ordered correctly)\n",
    "            while freq_index < len(sorted_frequencies):\n",
    "                freq, freq_pos = sorted_frequencies[freq_index]\n",
    "                if freq_pos > med_pos and freq_pos < next_med_pos:\n",
    "                    extracted_frequency = freq\n",
    "                    last_known_frequency = freq\n",
    "                    freq_index += 1\n",
    "                    break\n",
    "                freq_index += 1\n",
    "\n",
    "            # If no direct match, use last known frequency\n",
    "            if extracted_frequency == \"Unknown\" and last_known_frequency:\n",
    "                extracted_frequency = last_known_frequency\n",
    "\n",
    "            # If still unknown, use default\n",
    "            if extracted_frequency == \"Unknown\":\n",
    "                extracted_frequency = DEFAULT_FREQUENCY\n",
    "\n",
    "        extracted_results.append((med, extracted_frequency))\n",
    "    \n",
    "    return extracted_results"
   ]
  },
  {
   "cell_type": "code",
   "execution_count": null,
   "metadata": {},
   "outputs": [
    {
     "name": "stdout",
     "output_type": "stream",
     "text": [
      "الببتيدات ساعة كل الساليسيليك كربونات اللاكتيك الجليكوليك حمض اللزوم عند\n"
     ]
    },
    {
     "data": {
      "text/plain": [
       "[('الببتيدات', 'ساعة كل الساليسيليك'), ('كربونات', 'Twice daily')]"
      ]
     },
     "execution_count": 30,
     "metadata": {},
     "output_type": "execute_result"
    }
   ],
   "source": [
    "# text = \"Doxycycline مرة يومياً , كليندامايسين قبل النوم , موبيروسين مرتين يومياً , كلورهيكسيدين قبل النوم\"\n",
    "text = \"Paracetamol hours Every Oral Amoxicillin other lunch After Erythromycin Nystatin\"\n",
    "\n",
    "print(text)\n",
    "text = remove_diacritics(text)\n",
    "result = extract_medicine_and_frequency(text, medicine_list, frequency_patterns)\n",
    "result"
   ]
  },
  {
   "cell_type": "code",
   "execution_count": null,
   "metadata": {},
   "outputs": [],
   "source": []
  }
 ],
 "metadata": {
  "kernelspec": {
   "display_name": "Python 3",
   "language": "python",
   "name": "python3"
  },
  "language_info": {
   "codemirror_mode": {
    "name": "ipython",
    "version": 3
   },
   "file_extension": ".py",
   "mimetype": "text/x-python",
   "name": "python",
   "nbconvert_exporter": "python",
   "pygments_lexer": "ipython3",
   "version": "3.11.9"
  }
 },
 "nbformat": 4,
 "nbformat_minor": 2
}
